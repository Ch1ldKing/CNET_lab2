{
 "cells": [
  {
   "cell_type": "code",
   "execution_count": 2,
   "metadata": {},
   "outputs": [],
   "source": [
    "from sender import Sender\n",
    "from receiver import Receiver\n",
    "import socket"
   ]
  },
  {
   "cell_type": "code",
   "execution_count": 3,
   "metadata": {},
   "outputs": [
    {
     "name": "stdout",
     "output_type": "stream",
     "text": [
      "接收端启动\n",
      "收到数据包: Seq = 0, Data = b'\\xe8\\xbf\\x99\\xe6\\x98\\xaf\\xe4\\xb8'\n",
      "发送ACK: 0\n",
      "收到数据包: Seq = 1, Data = b'\\x8b\\xe8\\xbd\\xbd\\xe7\\x9a\\x84\\xe6'\n",
      "发送ACK: 1\n",
      "收到数据包: Seq = 2, Data = b'\\x96\\x87\\xe4\\xbb\\xb6.Th'\n",
      "发送ACK: 2\n",
      "收到数据包: Seq = 3, Data = b'is is a '\n",
      "发送ACK: 3\n",
      "收到数据包: Seq = 4, Data = b'download'\n",
      "发送ACK: 4\n",
      "收到数据包: Seq = 5, Data = b'ed text.'\n",
      "发送ACK: 5\n",
      "所有包已接收完毕\n",
      "重组后的完整字节数据: b'\\xe8\\xbf\\x99\\xe6\\x98\\xaf\\xe4\\xb8\\x8b\\xe8\\xbd\\xbd\\xe7\\x9a\\x84\\xe6\\x96\\x87\\xe4\\xbb\\xb6.This is a downloaded text.'\n",
      "消息内容: 这是下载的文件.This is a downloaded text.\n",
      "消息已保存为 downloaded_message_20241021_212221.txt\n"
     ]
    }
   ],
   "source": [
    "download_request_socket = socket.socket(socket.AF_INET, socket.SOCK_DGRAM)\n",
    "seq = 0\n",
    "flag = 0x0001\n",
    "filename = '1.txt'\n",
    "data = filename.encode().ljust(8, b\"\\0\")\n",
    "request_packet = seq.to_bytes(2, \"big\") + flag.to_bytes(2, \"big\") + data\n",
    "download_request_socket.sendto(request_packet, (\"127.0.0.1\", 9204))\n",
    "download_request_socket.close()\n",
    "receiver = Receiver(9205)\n",
    "receiver.bind()\n",
    "receiver.receive()"
   ]
  }
 ],
 "metadata": {
  "kernelspec": {
   "display_name": "Python 3",
   "language": "python",
   "name": "python3"
  },
  "language_info": {
   "codemirror_mode": {
    "name": "ipython",
    "version": 3
   },
   "file_extension": ".py",
   "mimetype": "text/x-python",
   "name": "python",
   "nbconvert_exporter": "python",
   "pygments_lexer": "ipython3",
   "version": "3.12.4"
  }
 },
 "nbformat": 4,
 "nbformat_minor": 2
}
